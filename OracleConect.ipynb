{
 "cells": [
  {
   "cell_type": "code",
   "execution_count": 1,
   "metadata": {},
   "outputs": [
    {
     "name": "stdout",
     "output_type": "stream",
     "text": [
      "C:\\Program Files\\Oracle\\instantclient_19_22\n",
      "entering Emergency Calls config\n",
      "lega el emc\n",
      "finished config for Emergency Calls\n",
      "entering Establishment config\n",
      "finished config for Establishment\n",
      "entering Establishment config\n",
      "finished config for Establishment\n",
      "starting\n",
      "finished connection\n"
     ]
    }
   ],
   "source": [
    "from security import Security"
   ]
  },
  {
   "cell_type": "code",
   "execution_count": 2,
   "metadata": {},
   "outputs": [
    {
     "data": {
      "text/plain": [
       "[(1, 'Lucía', 'Fernández', '35444223', 'Femenino', 28),\n",
       " (2, 'Sofía', 'Martínez', '30234567', 'Femenino', 32),\n",
       " (3, 'Alejandro', 'González', '25123456', 'Masculino', 45),\n",
       " (4, 'María', 'López', '40123456', 'Femenino', 40),\n",
       " (5, 'Juan', 'Rodríguez', '30123456', 'Masculino', 35)]"
      ]
     },
     "execution_count": 2,
     "metadata": {},
     "output_type": "execute_result"
    }
   ],
   "source": [
    "data = Security()\n",
    "rp = data.get_reporters()\n",
    "\n",
    "rp"
   ]
  }
 ],
 "metadata": {
  "kernelspec": {
   "display_name": "Python 3 (ipykernel)",
   "language": "python",
   "name": "python3"
  },
  "language_info": {
   "codemirror_mode": {
    "name": "ipython",
    "version": 3
   },
   "file_extension": ".py",
   "mimetype": "text/x-python",
   "name": "python",
   "nbconvert_exporter": "python",
   "pygments_lexer": "ipython3",
   "version": "3.7.9"
  }
 },
 "nbformat": 4,
 "nbformat_minor": 2
}
