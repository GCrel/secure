{
 "cells": [
  {
   "cell_type": "code",
   "execution_count": 1,
   "metadata": {},
   "outputs": [
    {
     "name": "stdout",
     "output_type": "stream",
     "text": [
      "/usr/lib/oracle/19.22/client64/lib/\n",
      "entering Establishment config\n",
      "finished config for Establishment\n",
      "entering Emergency Calls config\n",
      "finished config for Emergency Calls\n",
      "entering Establishment config\n",
      "finished config for Establishment\n",
      "entering Establishment config\n",
      "finished config for Establishment\n",
      "entering Establishment config\n",
      "finished config for Establishment\n",
      "starting\n",
      "finished connection\n"
     ]
    }
   ],
   "source": [
    "from security import Security"
   ]
  },
  {
   "cell_type": "code",
   "execution_count": 10,
   "metadata": {},
   "outputs": [],
   "source": [
    "import datetime\n"
   ]
  },
  {
   "cell_type": "code",
   "execution_count": 2,
   "metadata": {},
   "outputs": [
    {
     "name": "stdout",
     "output_type": "stream",
     "text": [
      "Todos los reportantes\n"
     ]
    },
    {
     "data": {
      "text/plain": [
       "[(1, 'Lucía', 'Fernández', '35444223', 'Femenino', 28),\n",
       " (2, 'Sofía', 'Martínez', '30234567', 'Femenino', 32),\n",
       " (3, 'Alejandro', 'González', '25123456', 'Masculino', 45),\n",
       " (4, 'María', 'López', '40123456', 'Femenino', 40),\n",
       " (5, 'Juan', 'Rodríguez', '30123456', 'Masculino', 35)]"
      ]
     },
     "execution_count": 2,
     "metadata": {},
     "output_type": "execute_result"
    }
   ],
   "source": [
    "#get all reporters\n",
    "data = Security()\n",
    "rp = data.get_reporters()\n",
    "print('Todos los reportantes')\n",
    "rp"
   ]
  },
  {
   "cell_type": "code",
   "execution_count": null,
   "metadata": {},
   "outputs": [],
   "source": [
    "print('Todos las llamadas de emergencia')\n",
    "em = data.get_emergency_call()\n",
    "em"
   ]
  },
  {
   "cell_type": "code",
   "execution_count": null,
   "metadata": {},
   "outputs": [],
   "source": [
    "print(\"La llamada de emergencia con id=1\")\n",
    "em= data.get_emergency_call(emc_id=1)\n",
    "em"
   ]
  },
  {
   "cell_type": "code",
   "execution_count": null,
   "metadata": {},
   "outputs": [],
   "source": [
    "print(\"La llamada de emergencia con id del incidente=2\")\n",
    "\n",
    "em=data.get_emergency_call(inc_id=2)\n",
    "em"
   ]
  },
  {
   "cell_type": "code",
   "execution_count": null,
   "metadata": {
    "scrolled": true
   },
   "outputs": [],
   "source": [
    "print(\"La llamada de emergencia con id=2\")\n",
    "\n",
    "em=data.get_emergency_call(emc_id=2)\n",
    "em"
   ]
  },
  {
   "cell_type": "code",
   "execution_count": null,
   "metadata": {},
   "outputs": [],
   "source": [
    "MayorF=data.getMaxFrecuenceIncidents()\n",
    "print(\"Los incidentes con mayor frecuencia es el:\",MayorF)"
   ]
  },
  {
   "cell_type": "code",
   "execution_count": null,
   "metadata": {},
   "outputs": [],
   "source": [
    "lastname='González'\n",
    "listName=data.get_emergency_calls_by_reporter_lastname(lastname)\n",
    "if(len(listName)!=0):\n",
    "    print(\"Busqueda de llamadas de emergencia realizada por\",lastname)\n",
    "    print(listName)\n",
    "else:\n",
    "    print(\"No realizo ninguna llamada de emergencia\")"
   ]
  },
  {
   "cell_type": "code",
   "execution_count": 16,
   "metadata": {},
   "outputs": [
    {
     "name": "stdout",
     "output_type": "stream",
     "text": [
      "Llamadas de emergencia entre el rango de fechas desde: 2023-12-10 hasta: 2024-03-24\n",
      "\n",
      "(3, '3825783921', datetime.datetime(2024, 3, 23, 7, 32, 30), 'RP14', 'Accidente', 3)\n",
      "(4, '3825346129', datetime.datetime(2023, 12, 10, 2, 14, 47), 'Sta. Rosa, San Miguel', 'Accidente', 3)\n"
     ]
    }
   ],
   "source": [
    "start_date = datetime.date(2023, 12, 10)\n",
    "end_date = datetime.date(2024, 3, 24)\n",
    "calls = data.get_emergency_calls_by_date_range(start_date, end_date)\n",
    "if len(calls) != 0:\n",
    "    print(\"Llamadas de emergencia entre el rango de fechas desde:\", start_date, \"hasta:\", end_date)\n",
    "    print()\n",
    "    for i in calls:\n",
    "        print(i)\n",
    "else:\n",
    "    print(\"Llamadas de emergencia entre el rango de fechas desde:\", start_date, \"hasta:\", end_date, \"no existen\")\n"
   ]
  }
 ],
 "metadata": {
  "kernelspec": {
   "display_name": "Python 3 (ipykernel)",
   "language": "python",
   "name": "python3"
  },
  "language_info": {
   "codemirror_mode": {
    "name": "ipython",
    "version": 3
   },
   "file_extension": ".py",
   "mimetype": "text/x-python",
   "name": "python",
   "nbconvert_exporter": "python",
   "pygments_lexer": "ipython3",
   "version": "3.7.17"
  }
 },
 "nbformat": 4,
 "nbformat_minor": 2
}
