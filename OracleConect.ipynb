{
 "cells": [
  {
   "cell_type": "code",
   "execution_count": 1,
   "metadata": {},
   "outputs": [
    {
     "name": "stdout",
     "output_type": "stream",
     "text": [
      "/usr/lib/oracle/19.22/client64/lib/\n",
      "entering Establishment config\n",
      "finished config for Establishment\n",
      "entering Emergency Calls config\n",
      "finished config for Emergency Calls\n",
      "entering Establishment config\n",
      "finished config for Establishment\n",
      "entering Establishment config\n",
      "finished config for Establishment\n",
      "entering Establishment config\n",
      "finished config for Establishment\n",
      "starting\n",
      "finished connection\n"
     ]
    }
   ],
   "source": [
    "from security import Security"
   ]
  },
  {
   "cell_type": "code",
   "execution_count": 2,
   "metadata": {},
   "outputs": [
    {
     "data": {
      "text/plain": [
       "[(1, 'Lucía', 'Fernández', '35444223', 'Femenino', 28),\n",
       " (2, 'Sofía', 'Martínez', '30234567', 'Femenino', 32),\n",
       " (3, 'Alejandro', 'González', '25123456', 'Masculino', 45),\n",
       " (4, 'María', 'López', '40123456', 'Femenino', 40),\n",
       " (5, 'Juan', 'Rodríguez', '30123456', 'Masculino', 35)]"
      ]
     },
     "execution_count": 2,
     "metadata": {},
     "output_type": "execute_result"
    }
   ],
   "source": [
    "#get all reporters\n",
    "data = Security()\n",
    "rp = data.get_reporters()\n",
    "\n",
    "rp"
   ]
  },
  {
   "cell_type": "code",
   "execution_count": null,
   "metadata": {},
   "outputs": [],
   "source": [
    "em = data.get_emergency_call()\n",
    "em"
   ]
  },
  {
   "cell_type": "code",
   "execution_count": null,
   "metadata": {},
   "outputs": [],
   "source": [
    "em= data.get_emergency_call(emc_id=1)\n",
    "em"
   ]
  },
  {
   "cell_type": "code",
   "execution_count": null,
   "metadata": {},
   "outputs": [],
   "source": [
    "em=data.get_emergency_call(inc_id=2)\n",
    "em"
   ]
  },
  {
   "cell_type": "code",
   "execution_count": null,
   "metadata": {
    "scrolled": true
   },
   "outputs": [],
   "source": [
    "em=data.get_emergency_call(est_id=2)\n",
    "em"
   ]
  },
  {
   "cell_type": "code",
   "execution_count": 4,
   "metadata": {},
   "outputs": [
    {
     "name": "stdout",
     "output_type": "stream",
     "text": [
      "Los incidentes con mayor frecuencia es el: Accidente\n"
     ]
    }
   ],
   "source": [
    "MayorF=data.getMaxFrecuenceIncidents()\n",
    "print(\"Los incidentes con mayor frecuencia es el:\",MayorF)"
   ]
  }
 ],
 "metadata": {
  "kernelspec": {
   "display_name": "Python 3 (ipykernel)",
   "language": "python",
   "name": "python3"
  },
  "language_info": {
   "codemirror_mode": {
    "name": "ipython",
    "version": 3
   },
   "file_extension": ".py",
   "mimetype": "text/x-python",
   "name": "python",
   "nbconvert_exporter": "python",
   "pygments_lexer": "ipython3",
   "version": "3.7.17"
  }
 },
 "nbformat": 4,
 "nbformat_minor": 2
}
