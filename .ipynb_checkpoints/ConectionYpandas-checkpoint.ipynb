{
 "cells": [
  {
   "cell_type": "code",
   "execution_count": null,
   "id": "aa77f43b",
   "metadata": {},
   "outputs": [],
   "source": [
    "import pandas \n",
    "import cx_Oracle\n",
    "cs='''(description= (retry_count=20)(retry_delay=3)(address=(protocol=tcps)(port=1522)(host=adb.sa-santiago-1.oraclecloud.com))(connect_data=(service_name=g8eaa6adc0ccc36_basededatosii_high.adb.oraclecloud.com))(security=(ssl_server_dn_match=yes)))'''\n",
    "connection=cx_Oracle.connect(\n",
    "     user=\"seguridad\",\n",
    "     password=\"StrongPassword123#\",\n",
    "     dsn=cs)\n",
    "\n",
    "sql1 = \"select * from seguridad.reporters\"\n",
    "dataset = pandas.read_sql(sql1 , connection)\n",
    "\n",
    "sql2 = \"select * from seguridad.emergency_calls\"\n",
    "dataset2 = pandas.read_sql(sql2 , connection)\n",
    "\n",
    "sql3 = \"select * from seguridad.establishment\"\n",
    "dataset3 = pandas.read_sql(sql3 , connection)\n",
    "\n",
    "\n",
    "sql4 = \"select * from seguridad.incidents\"\n",
    "dataset4 = pandas.read_sql(sql4 , connection)\n",
    "\n",
    "\n",
    "\n",
    "connection.close()\n",
    "\n",
    "dataset"
   ]
  },
  {
   "cell_type": "code",
   "execution_count": null,
   "id": "3087eb21",
   "metadata": {},
   "outputs": [],
   "source": [
    "dataset2"
   ]
  },
  {
   "cell_type": "code",
   "execution_count": null,
   "id": "eb90ee47",
   "metadata": {},
   "outputs": [],
   "source": [
    "dataset3"
   ]
  },
  {
   "cell_type": "code",
   "execution_count": null,
   "id": "b23cb983",
   "metadata": {},
   "outputs": [],
   "source": [
    "dataset4"
   ]
  },
  {
   "cell_type": "code",
   "execution_count": null,
   "id": "be3d6288",
   "metadata": {},
   "outputs": [],
   "source": [
    "\n",
    "print(\"El promedio de edad de reportantes es de \",dataset['REP_AGE'].mean())"
   ]
  }
 ],
 "metadata": {
  "kernelspec": {
   "display_name": "Python 3 (ipykernel)",
   "language": "python",
   "name": "python3"
  },
  "language_info": {
   "codemirror_mode": {
    "name": "ipython",
    "version": 3
   },
   "file_extension": ".py",
   "mimetype": "text/x-python",
   "name": "python",
   "nbconvert_exporter": "python",
   "pygments_lexer": "ipython3",
   "version": "3.7.9"
  }
 },
 "nbformat": 4,
 "nbformat_minor": 5
}
